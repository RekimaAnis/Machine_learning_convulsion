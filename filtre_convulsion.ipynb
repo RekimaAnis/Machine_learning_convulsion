{
  "nbformat": 4,
  "nbformat_minor": 0,
  "metadata": {
    "colab": {
      "provenance": []
    },
    "kernelspec": {
      "name": "python3",
      "display_name": "Python 3"
    },
    "language_info": {
      "name": "python"
    }
  },
  "cells": [
    {
      "cell_type": "markdown",
      "source": [
        "# Visualisation des filtres de convolution"
      ],
      "metadata": {
        "id": "TLTdSpGW1LKj"
      }
    },
    {
      "cell_type": "markdown",
      "source": [
        "## Chargement des données `CIFAR10`"
      ],
      "metadata": {
        "id": "TBNNirQi1VA-"
      }
    },
    {
      "cell_type": "code",
      "execution_count": null,
      "metadata": {
        "colab": {
          "base_uri": "https://localhost:8080/"
        },
        "id": "lIc4trkWaHhE",
        "outputId": "ce4710bb-587d-498a-eee4-e1ba58904a3e"
      },
      "outputs": [
        {
          "output_type": "stream",
          "name": "stdout",
          "text": [
            "Downloading https://www.cs.toronto.edu/~kriz/cifar-10-python.tar.gz to ./cifar-10-python.tar.gz\n"
          ]
        },
        {
          "output_type": "stream",
          "name": "stderr",
          "text": [
            "100%|██████████| 170M/170M [00:01<00:00, 96.1MB/s]\n"
          ]
        },
        {
          "output_type": "stream",
          "name": "stdout",
          "text": [
            "Extracting ./cifar-10-python.tar.gz to ./\n"
          ]
        }
      ],
      "source": [
        "import torch\n",
        "import torchvision\n",
        "from torch.utils.data import TensorDataset, DataLoader\n",
        "\n",
        "dataset_class = torchvision.datasets.CIFAR10\n",
        "\n",
        "batch_size = 3\n",
        "x, y = next(iter(DataLoader(\n",
        "    dataset_class(root='./', download=True,\n",
        "                   transform=torchvision.transforms.Compose([\n",
        "                       torchvision.transforms.ToTensor()])),\n",
        "                       batch_size=batch_size, shuffle=True)))\n"
      ]
    },
    {
      "cell_type": "markdown",
      "source": [
        "## Affichage d'un groupe d'images"
      ],
      "metadata": {
        "id": "15yLERTo1Z2I"
      }
    },
    {
      "cell_type": "code",
      "source": [
        "import matplotlib.pyplot as plt\n",
        "\n",
        "def show_imgs(x, channel_list):\n",
        "  plt.figure()\n",
        "  nb_img = len(x)\n",
        "  for k in range(nb_img):\n",
        "    plt.subplot(1, nb_img, k + 1)\n",
        "    plt.imshow(x[k, channel_list].permute(1, 2, 0).squeeze().detach())\n",
        "\n",
        "print('shape x', x.shape)\n",
        "show_imgs(x, [0, 1, 2])"
      ],
      "metadata": {
        "colab": {
          "base_uri": "https://localhost:8080/",
          "height": 226
        },
        "id": "zR9QPII3azPF",
        "outputId": "5e55bf3d-c5f9-4ce7-fd8d-8147801b36d0"
      },
      "execution_count": null,
      "outputs": [
        {
          "output_type": "stream",
          "name": "stdout",
          "text": [
            "shape x torch.Size([3, 3, 32, 32])\n"
          ]
        },
        {
          "output_type": "display_data",
          "data": {
            "text/plain": [
              "<Figure size 640x480 with 3 Axes>"
            ],
            "image/png": "[encoded data removed]"
          },
          "metadata": {}
        }
      ]
    },
    {
      "cell_type": "markdown",
      "source": [
        "## Fitlres de convolution"
      ],
      "metadata": {
        "id": "C3wYKOWV1hwx"
      }
    },
    {
      "cell_type": "code",
      "source": [
        "nb_c = 4\n",
        "conv1 = torch.nn.Conv2d(in_channels=3, out_channels=nb_c, kernel_size=4, stride=2)\n",
        "conv2 = torch.nn.Conv2d(in_channels=nb_c, out_channels=nb_c, kernel_size=3, stride=2)\n",
        "non_lin = torch.nn.ReLU()\n",
        "\n",
        "x1 = non_lin(conv1(x))\n",
        "print('shape x1', x1.shape)\n",
        "\n",
        "for c in range(nb_c):\n",
        "  show_imgs(x1, [c])\n",
        "\n",
        "x2 = non_lin(conv2(x1))\n",
        "print('shape x2', x2.shape)\n",
        "\n",
        "for c in range(nb_c):\n",
        "  show_imgs(x2, [c])\n",
        "\n",
        "x3 = x2.flatten(start_dim=1)\n",
        "print('shape x3', x3.shape)\n"
      ],
      "metadata": {
        "colab": {
          "base_uri": "https://localhost:8080/",
          "height": 1000
        },
        "id": "QjbY7yBGckc5",
        "outputId": "d39bacfd-6205-4335-b32c-721b26ad90a1"
      },
      "execution_count": null,
      "outputs": [
        {
          "output_type": "stream",
          "name": "stdout",
          "text": [
            "shape x1 torch.Size([3, 4, 15, 15])\n",
            "shape x2 torch.Size([3, 4, 7, 7])\n",
            "shape x3 torch.Size([3, 196])\n"
          ]
        },
        {
          "output_type": "display_data",
          "data": {
            "text/plain": [
              "<Figure size 640x480 with 3 Axes>"
            ],
            "image/png": "[encoded data removed]"
          },
          "metadata": {}
        },
        {
          "output_type": "display_data",
          "data": {
            "text/plain": [
              "<Figure size 640x480 with 3 Axes>"
            ],
            "image/png": "[encoded data removed]"
          },
          "metadata": {}
        },
        {
          "output_type": "display_data",
          "data": {
            "text/plain": [
              "<Figure size 640x480 with 3 Axes>"
            ],
            "image/png": "[encoded data removed]"
          },
          "metadata": {}
        },
        {
          "output_type": "display_data",
          "data": {
            "text/plain": [
              "<Figure size 640x480 with 3 Axes>"
            ],
            "image/png": "[encoded data removed]"
          },
          "metadata": {}
        },
        {
          "output_type": "display_data",
          "data": {
            "text/plain": [
              "<Figure size 640x480 with 3 Axes>"
            ],
            "image/png": "[encoded data removed]"
          },
          "metadata": {}
        },
        {
          "output_type": "display_data",
          "data": {
            "text/plain": [
              "<Figure size 640x480 with 3 Axes>"
            ],
            "image/png": "[encoded data removed]"
          },
          "metadata": {}
        },
        {
          "output_type": "display_data",
          "data": {
            "text/plain": [
              "<Figure size 640x480 with 3 Axes>"
            ],
            "image/png": "[encoded data removed]"
          },
          "metadata": {}
        },
        {
          "output_type": "display_data",
          "data": {
            "text/plain": [
              "<Figure size 640x480 with 3 Axes>"
            ],
            "image/png": "[encoded data removed]"
          },
          "metadata": {}
        }
      ]
    },
    {
      "cell_type": "code",
      "source": [
        "x3 = x2.flatten(start_dim=1)\n",
        "print('shape x3', x3.shape)\n"
      ],
      "metadata": {
        "colab": {
          "base_uri": "https://localhost:8080/"
        },
        "id": "hm7PDwFzK0nK",
        "outputId": "d938b463-2b43-49a8-b5e8-999e125498aa"
      },
      "execution_count": null,
      "outputs": [
        {
          "output_type": "stream",
          "name": "stdout",
          "text": [
            "shape x3 torch.Size([3, 196])\n"
          ]
        }
      ]
    },
    {
      "cell_type": "code",
      "source": [
        "print(x3)"
      ],
      "metadata": {
        "id": "HTEhvoRUgCPE",
        "colab": {
          "base_uri": "https://localhost:8080/"
        },
        "collapsed": true,
        "outputId": "5f7c19a7-45a4-44b2-e74a-f39980bba704"
      },
      "execution_count": null,
      "outputs": [
        {
          "output_type": "stream",
          "name": "stdout",
          "text": [
            "tensor([[0.0681, 0.0589, 0.0594, 0.0614, 0.0607, 0.0611, 0.0542, 0.0640, 0.0667,\n",
            "         0.0655, 0.0587, 0.0661, 0.0613, 0.0326, 0.0204, 0.0518, 0.0784, 0.0533,\n",
            "         0.0299, 0.0374, 0.0425, 0.0423, 0.0588, 0.0431, 0.0914, 0.0378, 0.0695,\n",
            "         0.0331, 0.0673, 0.0717, 0.0708, 0.0660, 0.0571, 0.0748, 0.0409, 0.0637,\n",
            "         0.0678, 0.0543, 0.0842, 0.0781, 0.0756, 0.0382, 0.0429, 0.0443, 0.0526,\n",
            "         0.0505, 0.0492, 0.0465, 0.0459, 0.0000, 0.0000, 0.0000, 0.0000, 0.0000,\n",
            "         0.0000, 0.0000, 0.0000, 0.0000, 0.0000, 0.0000, 0.0000, 0.0000, 0.0000,\n",
            "         0.0000, 0.0000, 0.0000, 0.0000, 0.0000, 0.0000, 0.0000, 0.0000, 0.0000,\n",
            "         0.0000, 0.0000, 0.0000, 0.0000, 0.0000, 0.0000, 0.0000, 0.0000, 0.0000,\n",
            "         0.0000, 0.0000, 0.0000, 0.0000, 0.0000, 0.0000, 0.0000, 0.0000, 0.0000,\n",
            "         0.0000, 0.0000, 0.0000, 0.0000, 0.0000, 0.0000, 0.0000, 0.0000, 0.0018,\n",
            "         0.0000, 0.0000, 0.0000, 0.0000, 0.0000, 0.0000, 0.0000, 0.0000, 0.0000,\n",
            "         0.0000, 0.0144, 0.0024, 0.0000, 0.0124, 0.0471, 0.0000, 0.0000, 0.0000,\n",
            "         0.0268, 0.0000, 0.0183, 0.0000, 0.0302, 0.0000, 0.0059, 0.0000, 0.0000,\n",
            "         0.0227, 0.0000, 0.0000, 0.0000, 0.0000, 0.0000, 0.0000, 0.0180, 0.0000,\n",
            "         0.0000, 0.0097, 0.0000, 0.0000, 0.0000, 0.0045, 0.0144, 0.0130, 0.0175,\n",
            "         0.0183, 0.0140, 0.0038, 0.1282, 0.1179, 0.1165, 0.1140, 0.1203, 0.1194,\n",
            "         0.1161, 0.1172, 0.1121, 0.0964, 0.1081, 0.1229, 0.1159, 0.1261, 0.0973,\n",
            "         0.1238, 0.0812, 0.0937, 0.1305, 0.1418, 0.1193, 0.1605, 0.0519, 0.1280,\n",
            "         0.0951, 0.1437, 0.1118, 0.1303, 0.1368, 0.1169, 0.1165, 0.1125, 0.1157,\n",
            "         0.1161, 0.1226, 0.1302, 0.1049, 0.0913, 0.1240, 0.1075, 0.1085, 0.1130,\n",
            "         0.1036, 0.1109, 0.1106, 0.1072, 0.0957, 0.0884, 0.1017],\n",
            "        [0.0566, 0.0652, 0.0653, 0.0640, 0.0642, 0.0650, 0.0660, 0.0718, 0.0658,\n",
            "         0.0508, 0.0373, 0.0626, 0.0569, 0.0578, 0.0364, 0.0531, 0.0431, 0.0420,\n",
            "         0.0622, 0.0184, 0.0786, 0.0604, 0.0436, 0.0512, 0.0393, 0.0319, 0.0489,\n",
            "         0.0971, 0.0734, 0.0686, 0.0621, 0.0224, 0.0651, 0.0385, 0.1002, 0.0699,\n",
            "         0.0754, 0.0790, 0.0695, 0.0627, 0.0652, 0.0723, 0.0742, 0.0759, 0.0755,\n",
            "         0.0777, 0.0762, 0.0774, 0.0721, 0.0000, 0.0000, 0.0000, 0.0000, 0.0000,\n",
            "         0.0000, 0.0000, 0.0000, 0.0000, 0.0000, 0.0000, 0.0000, 0.0000, 0.0000,\n",
            "         0.0000, 0.0000, 0.0000, 0.0000, 0.0000, 0.0000, 0.0000, 0.0000, 0.0000,\n",
            "         0.0000, 0.0000, 0.0000, 0.0000, 0.0000, 0.0000, 0.0000, 0.0000, 0.0000,\n",
            "         0.0000, 0.0000, 0.0000, 0.0000, 0.0000, 0.0000, 0.0000, 0.0000, 0.0000,\n",
            "         0.0000, 0.0000, 0.0000, 0.0000, 0.0000, 0.0000, 0.0000, 0.0000, 0.0005,\n",
            "         0.0000, 0.0000, 0.0000, 0.0000, 0.0000, 0.0000, 0.0026, 0.0331, 0.0181,\n",
            "         0.0000, 0.0208, 0.0072, 0.0000, 0.0016, 0.0095, 0.0000, 0.0000, 0.0000,\n",
            "         0.0427, 0.0000, 0.0000, 0.0084, 0.0192, 0.0000, 0.0223, 0.0000, 0.0319,\n",
            "         0.0044, 0.0000, 0.0251, 0.0205, 0.0372, 0.0364, 0.0000, 0.0000, 0.0000,\n",
            "         0.0000, 0.0000, 0.0000, 0.0000, 0.0000, 0.0000, 0.0000, 0.0000, 0.0000,\n",
            "         0.0000, 0.0000, 0.0000, 0.1351, 0.1090, 0.1042, 0.1116, 0.1099, 0.1079,\n",
            "         0.1108, 0.1153, 0.1418, 0.1168, 0.0703, 0.1276, 0.1210, 0.1275, 0.1193,\n",
            "         0.1164, 0.0992, 0.0907, 0.1333, 0.1732, 0.1032, 0.1362, 0.1553, 0.1008,\n",
            "         0.1034, 0.1464, 0.1323, 0.1219, 0.1388, 0.0805, 0.1291, 0.1315, 0.1291,\n",
            "         0.1003, 0.0788, 0.0971, 0.0954, 0.1102, 0.1158, 0.1260, 0.1115, 0.0995,\n",
            "         0.1063, 0.1050, 0.1025, 0.1023, 0.0988, 0.1038, 0.1002],\n",
            "        [0.0515, 0.0460, 0.0211, 0.0275, 0.0875, 0.0488, 0.0378, 0.0060, 0.0223,\n",
            "         0.0142, 0.0368, 0.0248, 0.0198, 0.0066, 0.0390, 0.0454, 0.0363, 0.0422,\n",
            "         0.0296, 0.0524, 0.0571, 0.0312, 0.0287, 0.0379, 0.0357, 0.0909, 0.0318,\n",
            "         0.0294, 0.0265, 0.0231, 0.0332, 0.0360, 0.0324, 0.0480, 0.0441, 0.0595,\n",
            "         0.0232, 0.0412, 0.0454, 0.0199, 0.0351, 0.0346, 0.0296, 0.0305, 0.0324,\n",
            "         0.0330, 0.0282, 0.0403, 0.0235, 0.0000, 0.0000, 0.0000, 0.0000, 0.0000,\n",
            "         0.0000, 0.0000, 0.0000, 0.0000, 0.0000, 0.0000, 0.0000, 0.0000, 0.0000,\n",
            "         0.0000, 0.0000, 0.0000, 0.0000, 0.0000, 0.0000, 0.0000, 0.0000, 0.0000,\n",
            "         0.0000, 0.0000, 0.0000, 0.0000, 0.0000, 0.0000, 0.0000, 0.0000, 0.0000,\n",
            "         0.0000, 0.0000, 0.0000, 0.0000, 0.0000, 0.0000, 0.0000, 0.0000, 0.0000,\n",
            "         0.0000, 0.0000, 0.0000, 0.0000, 0.0000, 0.0000, 0.0000, 0.0000, 0.0226,\n",
            "         0.0000, 0.0429, 0.0426, 0.0000, 0.0011, 0.0088, 0.0000, 0.0209, 0.0000,\n",
            "         0.0000, 0.0000, 0.0000, 0.0000, 0.0096, 0.0000, 0.0033, 0.0000, 0.0245,\n",
            "         0.0000, 0.0000, 0.0049, 0.0000, 0.0000, 0.0000, 0.0000, 0.0000, 0.0000,\n",
            "         0.0043, 0.0000, 0.0000, 0.0000, 0.0017, 0.0000, 0.0032, 0.0000, 0.0079,\n",
            "         0.0000, 0.0081, 0.0000, 0.0000, 0.0000, 0.0000, 0.0000, 0.0000, 0.0000,\n",
            "         0.0000, 0.0000, 0.0028, 0.1237, 0.0907, 0.1494, 0.1463, 0.1131, 0.1377,\n",
            "         0.1120, 0.1250, 0.0994, 0.0798, 0.1132, 0.1044, 0.0690, 0.1018, 0.1559,\n",
            "         0.1097, 0.1235, 0.1272, 0.1231, 0.1007, 0.1157, 0.1409, 0.1248, 0.1172,\n",
            "         0.1191, 0.1257, 0.1133, 0.1110, 0.1475, 0.1032, 0.1166, 0.1187, 0.1285,\n",
            "         0.1135, 0.1262, 0.1377, 0.1234, 0.1189, 0.1483, 0.1073, 0.1255, 0.1157,\n",
            "         0.1110, 0.1155, 0.1209, 0.1124, 0.1037, 0.1424, 0.1083]],\n",
            "       grad_fn=<ViewBackward0>)\n"
          ]
        }
      ]
    },
    {
      "cell_type": "markdown",
      "source": [
        "# Exercice\n",
        "\n",
        "Entraîner un réseau de neurones à convolution sur la tâche de classification multi-classes suivante"
      ],
      "metadata": {
        "id": "6oV7W6TG1oQe"
      }
    },
    {
      "cell_type": "code",
      "source": [
        "import torch\n",
        "import torchvision\n",
        "from torch.utils.data import TensorDataset, DataLoader\n",
        "\n",
        "dataset_loader = torchvision.datasets.CIFAR10\n",
        "\n",
        "batch_size = 1000\n",
        "data_x, data_y = next(iter(DataLoader(\n",
        "    dataset_loader(root='./', download=True,\n",
        "                   transform=torchvision.transforms.Compose([\n",
        "                       torchvision.transforms.ToTensor()])),\n",
        "                       batch_size=batch_size, shuffle=True)))\n",
        "\n",
        "train_dataset = TensorDataset(data_x, data_y)"
      ],
      "metadata": {
        "colab": {
          "base_uri": "https://localhost:8080/"
        },
        "id": "2NHBqWbT18C5",
        "outputId": "8ce5865e-ae6f-4cc5-84ea-8d406f5ea40f"
      },
      "execution_count": null,
      "outputs": [
        {
          "output_type": "stream",
          "name": "stdout",
          "text": [
            "Files already downloaded and verified\n"
          ]
        }
      ]
    },
    {
      "cell_type": "code",
      "source": [
        "data_x.shape"
      ],
      "metadata": {
        "id": "pBZrzB3WU2Rk",
        "outputId": "d1c4153a-b77f-4fd6-eb56-5b8f4e920016",
        "colab": {
          "base_uri": "https://localhost:8080/"
        }
      },
      "execution_count": null,
      "outputs": [
        {
          "output_type": "execute_result",
          "data": {
            "text/plain": [
              "torch.Size([1000, 3, 32, 32])"
            ]
          },
          "metadata": {},
          "execution_count": 7
        }
      ]
    },
    {
      "cell_type": "code",
      "source": [
        "import torch.nn as nn\n",
        "\n",
        "# Modèle prédictif\n",
        "class CNN(torch.nn.Module):\n",
        "  def __init__(self):\n",
        "    super().__init__()\n",
        "    self.conv1 = nn.Conv2d(in_channels=3, out_channels = 32, kernel_size = 3, stride = 2, padding = 1)\n",
        "    self.conv2 = nn.Conv2d(32,64, kernel_size = 3, stride = 2 , padding =1)\n",
        "\n",
        "    self.fc1 = nn.Linear(64*8*8, 128)\n",
        "    self.fc2 = nn.Linear(128, 10)\n",
        "    self.relu = nn.ReLU()\n",
        "\n",
        "  def forward(self, x):\n",
        "    x = self.relu(self.conv1(x))\n",
        "    x = self.relu(self.conv2(x))\n",
        "    x = x.view(x.size(0), -1)\n",
        "    x = self.relu(self.fc1(x))\n",
        "    x = self.fc2(x)\n",
        "    return x"
      ],
      "metadata": {
        "id": "YLazu7H_2JOX"
      },
      "execution_count": null,
      "outputs": []
    },
    {
      "cell_type": "code",
      "source": [
        "# code qui parcours le jeu de données par bouts de taille 30\n",
        "taille_minibatch = 30\n",
        "train_data_iter = DataLoader(train_dataset, shuffle=True, drop_last=True,\n",
        "                             batch_size=taille_minibatch)\n",
        "model = CNN()\n",
        "criterion = nn.CrossEntropyLoss()\n",
        "optimizer = torch.optim.Adam(model.parameters(), lr=0.001)\n",
        "\n",
        "with torch.no_grad():\n",
        "    predictions = model(data_x).argmax(dim=1)\n",
        "    nb_erreurs = (predictions != data_y.view(-1)).sum().item()\n",
        "    print(\"Nombre de mauvaises classifications:\", nb_erreurs)\n",
        "\n",
        "for epoch in range(100):\n",
        "  for data, train in train_data_iter:  # parcours de la base de données train_dataset par bouts de taille 32\n",
        "    # Apprentissage du modèle par descente de gradien\n",
        "      optimizer.zero_grad()\n",
        "      outputs = model(data)\n",
        "      loss = criterion(outputs, train.view(-1))\n",
        "      loss.backward()\n",
        "      optimizer.step()\n",
        "\n",
        "with torch.no_grad():\n",
        "    predictions = model(data_x).argmax(dim=1)\n",
        "    nb_erreurs = (predictions != data_y.view(-1)).sum().item()\n",
        "    print(\"Nombre de mauvaises classifications:\", nb_erreurs)\n"
      ],
      "metadata": {
        "colab": {
          "base_uri": "https://localhost:8080/"
        },
        "id": "dgXqgzzI2kDd",
        "outputId": "d6e5c990-8105-4bfa-9cb7-7c6e28a9431f"
      },
      "execution_count": null,
      "outputs": [
        {
          "output_type": "stream",
          "name": "stdout",
          "text": [
            "Nombre de mauvaises classifications: 898\n",
            "Nombre de mauvaises classifications: 0\n"
          ]
        }
      ]
    }
  ]
}